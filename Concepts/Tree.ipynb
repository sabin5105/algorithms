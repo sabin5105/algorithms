{
 "cells": [
  {
   "cell_type": "code",
   "execution_count": 1,
   "metadata": {},
   "outputs": [],
   "source": [
    "tree = {\n",
    "    'root' : {\n",
    "        'value' : 5,\n",
    "        'left' : {\n",
    "            'value': 3,\n",
    "            'left': {\n",
    "                'value': 1,\n",
    "                'left': None,\n",
    "                'right': None\n",
    "            },\n",
    "            'right': {\n",
    "                'value': 4,\n",
    "                'left': None,\n",
    "                'right': None\n",
    "            },\n",
    "        },\n",
    "        'right' : {\n",
    "            'value': 8,\n",
    "            'left': {\n",
    "                'value': 6,\n",
    "                'left': None,\n",
    "                'right': None\n",
    "            },\n",
    "            'right': {\n",
    "                'value': 9,\n",
    "                'left': None,\n",
    "                'right': None\n",
    "            },\n",
    "        },\n",
    "    }\n",
    "}"
   ]
  },
  {
   "cell_type": "code",
   "execution_count": 2,
   "metadata": {},
   "outputs": [
    {
     "data": {
      "text/plain": [
       "3"
      ]
     },
     "execution_count": 2,
     "metadata": {},
     "output_type": "execute_result"
    }
   ],
   "source": [
    "tree\n",
    "tree['root']\n",
    "tree['root']['left']['value']"
   ]
  },
  {
   "cell_type": "code",
   "execution_count": 3,
   "metadata": {},
   "outputs": [],
   "source": [
    "tree = {\n",
    "    'root' : {\n",
    "        'value' : 55,\n",
    "        'left' : {\n",
    "            'value': 30,\n",
    "            'left': {\n",
    "                'value': 25,\n",
    "                'left': {\n",
    "                    'value': 21,\n",
    "                    'left': None,\n",
    "                    'right': None,\n",
    "                },\n",
    "                'right': None\n",
    "            },\n",
    "            'right': {\n",
    "                'value': 37,\n",
    "                'left': None,\n",
    "                'right': None\n",
    "            },\n",
    "        },\n",
    "        'right' : {\n",
    "            'value': 70,\n",
    "            'left': {\n",
    "                'value': 75,\n",
    "                'left': None,\n",
    "                'right': None\n",
    "            },\n",
    "            'right': {\n",
    "                'value': 77,\n",
    "                'left': None,\n",
    "                'right': {\n",
    "                    'value': 80,\n",
    "                    'left': None,\n",
    "                    'right': None,\n",
    "                }\n",
    "            },\n",
    "        },\n",
    "    }\n",
    "}"
   ]
  },
  {
   "cell_type": "code",
   "execution_count": 4,
   "metadata": {},
   "outputs": [
    {
     "data": {
      "text/plain": [
       "25"
      ]
     },
     "execution_count": 4,
     "metadata": {},
     "output_type": "execute_result"
    }
   ],
   "source": [
    "tree\n",
    "tree['root']['value']\n",
    "tree['root']['right']['value']\n",
    "tree['root']['left']['left']['value']"
   ]
  },
  {
   "cell_type": "code",
   "execution_count": 5,
   "metadata": {},
   "outputs": [],
   "source": [
    "# step1\n",
    "\n",
    "class Node():\n",
    "    def __init__(self, data):\n",
    "        self.data = data\n",
    "        # self.child = []\n",
    "        self.left = None\n",
    "        self.right = None\n",
    "        \n",
    "node1 = Node(55)\n",
    "node2 = Node(99)\n",
    "node3 = Node(53)\n",
    "node4 = Node(37)\n",
    "node5 = Node(54)\n",
    "\n",
    "node1.right = node2\n",
    "node1.left = node3\n",
    "node3.right = node5\n",
    "node3.left = node4"
   ]
  },
  {
   "cell_type": "code",
   "execution_count": 6,
   "metadata": {},
   "outputs": [
    {
     "data": {
      "text/plain": [
       "37"
      ]
     },
     "execution_count": 6,
     "metadata": {},
     "output_type": "execute_result"
    }
   ],
   "source": [
    "node1.left.left.data"
   ]
  },
  {
   "cell_type": "code",
   "execution_count": 7,
   "metadata": {},
   "outputs": [
    {
     "data": {
      "text/plain": [
       "True"
      ]
     },
     "execution_count": 7,
     "metadata": {},
     "output_type": "execute_result"
    }
   ],
   "source": [
    "# step 2\n",
    "\n",
    "class Node():\n",
    "    def __init__(self, data):\n",
    "        self.data = data\n",
    "        # self.child = []\n",
    "        self.left = None\n",
    "        self.right = None\n",
    "        \n",
    "class Tree():\n",
    "    def __init__(self, data):\n",
    "        init = Node(data)\n",
    "        self.root = init\n",
    "        self.length = 0\n",
    "    \n",
    "    def length(self):\n",
    "        return self.length\n",
    "    \n",
    "    def insert(self, data):\n",
    "        new_node = Node(data)\n",
    "        curr_node = self.root\n",
    "        \n",
    "        while(curr_node):\n",
    "            if(data == curr_node.data):\n",
    "                return False\n",
    "            if(data < curr_node.data):\n",
    "                if(not curr_node.left):\n",
    "                    curr_node.left = new_node\n",
    "                    self.length += 1\n",
    "                    return True\n",
    "                curr_node = curr_node.left\n",
    "            if(data > curr_node.data):\n",
    "                if not curr_node.right:\n",
    "                    curr_node.right = new_node\n",
    "                    self.length += 1\n",
    "                    return True\n",
    "                curr_node = curr_node.right\n",
    "                \n",
    "t = Tree(5)\n",
    "t.insert(3)\n",
    "t.insert(8)\n",
    "t.insert(1)\n",
    "t.insert(4)\n",
    "t.insert(6)\n",
    "t.insert(9)"
   ]
  },
  {
   "cell_type": "code",
   "execution_count": 8,
   "metadata": {},
   "outputs": [
    {
     "data": {
      "text/plain": [
       "1"
      ]
     },
     "execution_count": 8,
     "metadata": {},
     "output_type": "execute_result"
    }
   ],
   "source": [
    "t.root.left.left.data"
   ]
  },
  {
   "cell_type": "code",
   "execution_count": 10,
   "metadata": {},
   "outputs": [
    {
     "data": {
      "text/plain": [
       "[5, 8, 3, 9, 6, 4, 1]"
      ]
     },
     "execution_count": 10,
     "metadata": {},
     "output_type": "execute_result"
    }
   ],
   "source": [
    "# step 3 깊이우선탐색, 넓이우선탐색\n",
    "\n",
    "class Node():\n",
    "    def __init__(self, data):\n",
    "        self.data = data\n",
    "        # self.child = []\n",
    "        self.left = None\n",
    "        self.right = None\n",
    "        \n",
    "class Tree():\n",
    "    def __init__(self, data):\n",
    "        init = Node(data)\n",
    "        self.root = init\n",
    "        self.length = 0\n",
    "    \n",
    "    def length(self):\n",
    "        return self.length\n",
    "    \n",
    "    def insert(self, data):\n",
    "        new_node = Node(data)\n",
    "        curr_node = self.root\n",
    "        \n",
    "        while(curr_node):\n",
    "            if(data == curr_node.data):\n",
    "                return False\n",
    "            if(data < curr_node.data):\n",
    "                if(not curr_node.left):\n",
    "                    curr_node.left = new_node\n",
    "                    self.length += 1\n",
    "                    return True\n",
    "                curr_node = curr_node.left\n",
    "            if(data > curr_node.data):\n",
    "                if not curr_node.right:\n",
    "                    curr_node.right = new_node\n",
    "                    self.length += 1\n",
    "                    return True\n",
    "                curr_node = curr_node.right\n",
    "              \n",
    "    # 깊스너큐 (깊이 스택, 너비 큐)\n",
    "    # 파선아실 (파라미터 - 선언, 아규먼트 - 실행)          \n",
    "    def DFS(self):\n",
    "        result = []\n",
    "        stack = [self.root]\n",
    "        \n",
    "        while stack:\n",
    "            curr_node = stack.pop()\n",
    "            if curr_node.right:\n",
    "                stack.append(curr_node.right)\n",
    "            if curr_node.left:\n",
    "                stack.append(curr_node.left)\n",
    "            result.append(curr_node.data)\n",
    "        return result\n",
    "     \n",
    "    def BFS(self):\n",
    "        result = []\n",
    "        queue = [self.root]\n",
    "        \n",
    "        while queue:\n",
    "            curr_node = queue.pop(0)\n",
    "            if curr_node.right:\n",
    "                queue.append(curr_node.right)\n",
    "            if curr_node.left:\n",
    "                queue.append(curr_node.left)\n",
    "            result.append(curr_node.data)\n",
    "        return result\n",
    "                \n",
    "t = Tree(5)\n",
    "t.insert(3)\n",
    "t.insert(8)\n",
    "t.insert(1)\n",
    "t.insert(4)\n",
    "t.insert(6)\n",
    "t.insert(9)\n",
    "t.DFS()\n",
    "t.BFS()"
   ]
  },
  {
   "cell_type": "code",
   "execution_count": null,
   "metadata": {},
   "outputs": [],
   "source": []
  }
 ],
 "metadata": {
  "kernelspec": {
   "display_name": "Python 3.9.12",
   "language": "python",
   "name": "python3"
  },
  "language_info": {
   "codemirror_mode": {
    "name": "ipython",
    "version": 3
   },
   "file_extension": ".py",
   "mimetype": "text/x-python",
   "name": "python",
   "nbconvert_exporter": "python",
   "pygments_lexer": "ipython3",
   "version": "3.9.12"
  },
  "orig_nbformat": 4,
  "vscode": {
   "interpreter": {
    "hash": "40d3a090f54c6569ab1632332b64b2c03c39dcf918b08424e98f38b5ae0af88f"
   }
  }
 },
 "nbformat": 4,
 "nbformat_minor": 2
}
